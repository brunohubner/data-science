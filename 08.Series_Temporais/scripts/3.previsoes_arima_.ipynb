{
 "cells": [
  {
   "cell_type": "markdown",
   "metadata": {},
   "source": [
    "# Previsão com séries temporais (ARIMA)\n"
   ]
  },
  {
   "cell_type": "code",
   "execution_count": 16,
   "metadata": {},
   "outputs": [],
   "source": [
    "# Importação das bibliotecas\n",
    "import pandas as pd\n",
    "import matplotlib.pylab as plt\n",
    "from statsmodels.tsa.arima.model import ARIMA\n",
    "from pmdarima.arima import auto_arima\n",
    "from os import path\n",
    "from datetime import datetime\n",
    "# registro de converters para uso do matplotlib\n",
    "from pandas.plotting import register_matplotlib_converters\n",
    "register_matplotlib_converters()\n"
   ]
  },
  {
   "cell_type": "code",
   "execution_count": 17,
   "metadata": {},
   "outputs": [],
   "source": [
    "# Carregamento da base de dados, conversão do atributo para data e criação da série temporal (ts)\n",
    "base = pd.read_csv(path.join(\"..\", \"data\", \"AirPassengers.csv\"))\n",
    "def dateparse(dates): \n",
    "    return datetime.strptime(dates, '%Y-%m')\n",
    "\n",
    "\n",
    "base = pd.read_csv(path.join(\"..\", \"data\", \"AirPassengers.csv\"), parse_dates=['Month'],\n",
    "                   index_col='Month', date_parser=dateparse)\n",
    "ts = base['#Passengers']\n"
   ]
  },
  {
   "cell_type": "code",
   "execution_count": 18,
   "metadata": {},
   "outputs": [
    {
     "data": {
      "text/plain": [
       "[<matplotlib.lines.Line2D at 0x7f4239754af0>]"
      ]
     },
     "execution_count": 18,
     "metadata": {},
     "output_type": "execute_result"
    },
    {
     "data": {
      "image/png": "[encoded data removed]",
      "text/plain": [
       "<Figure size 432x288 with 1 Axes>"
      ]
     },
     "metadata": {
      "needs_background": "light"
     },
     "output_type": "display_data"
    }
   ],
   "source": [
    "# Visualização da série temporal completa\n",
    "plt.plot(ts)\n"
   ]
  },
  {
   "cell_type": "code",
   "execution_count": 19,
   "metadata": {},
   "outputs": [
    {
     "name": "stderr",
     "output_type": "stream",
     "text": [
      "/home/bruno/projects/data-science/venv/lib/python3.8/site-packages/statsmodels/tsa/base/tsa_model.py:471: ValueWarning: No frequency information was provided, so inferred frequency MS will be used.\n",
      "  self._init_dates(dates, freq)\n",
      "/home/bruno/projects/data-science/venv/lib/python3.8/site-packages/statsmodels/base/model.py:604: ConvergenceWarning: Maximum Likelihood optimization failed to converge. Check mle_retvals\n",
      "  warnings.warn(\"Maximum Likelihood optimization failed to \"\n"
     ]
    },
    {
     "data": {
      "text/html": [
       "<table class=\"simpletable\">\n",
       "<caption>SARIMAX Results</caption>\n",
       "<tr>\n",
       "  <th>Dep. Variable:</th>      <td>#Passengers</td>   <th>  No. Observations:  </th>    <td>144</td>  \n",
       "</tr>\n",
       "<tr>\n",
       "  <th>Model:</th>            <td>ARIMA(2, 1, 2)</td>  <th>  Log Likelihood     </th> <td>-671.673</td>\n",
       "</tr>\n",
       "<tr>\n",
       "  <th>Date:</th>            <td>Wed, 08 Jun 2022</td> <th>  AIC                </th> <td>1353.347</td>\n",
       "</tr>\n",
       "<tr>\n",
       "  <th>Time:</th>                <td>08:22:21</td>     <th>  BIC                </th> <td>1368.161</td>\n",
       "</tr>\n",
       "<tr>\n",
       "  <th>Sample:</th>             <td>01-01-1949</td>    <th>  HQIC               </th> <td>1359.366</td>\n",
       "</tr>\n",
       "<tr>\n",
       "  <th></th>                   <td>- 12-01-1960</td>   <th>                     </th>     <td> </td>   \n",
       "</tr>\n",
       "<tr>\n",
       "  <th>Covariance Type:</th>        <td>opg</td>       <th>                     </th>     <td> </td>   \n",
       "</tr>\n",
       "</table>\n",
       "<table class=\"simpletable\">\n",
       "<tr>\n",
       "     <td></td>       <th>coef</th>     <th>std err</th>      <th>z</th>      <th>P>|z|</th>  <th>[0.025</th>    <th>0.975]</th>  \n",
       "</tr>\n",
       "<tr>\n",
       "  <th>ar.L1</th>  <td>    1.6850</td> <td>    0.020</td> <td>   83.061</td> <td> 0.000</td> <td>    1.645</td> <td>    1.725</td>\n",
       "</tr>\n",
       "<tr>\n",
       "  <th>ar.L2</th>  <td>   -0.9549</td> <td>    0.017</td> <td>  -55.420</td> <td> 0.000</td> <td>   -0.989</td> <td>   -0.921</td>\n",
       "</tr>\n",
       "<tr>\n",
       "  <th>ma.L1</th>  <td>   -1.8432</td> <td>    0.124</td> <td>  -14.845</td> <td> 0.000</td> <td>   -2.087</td> <td>   -1.600</td>\n",
       "</tr>\n",
       "<tr>\n",
       "  <th>ma.L2</th>  <td>    0.9953</td> <td>    0.135</td> <td>    7.398</td> <td> 0.000</td> <td>    0.732</td> <td>    1.259</td>\n",
       "</tr>\n",
       "<tr>\n",
       "  <th>sigma2</th> <td>  665.9646</td> <td>  113.887</td> <td>    5.848</td> <td> 0.000</td> <td>  442.751</td> <td>  889.178</td>\n",
       "</tr>\n",
       "</table>\n",
       "<table class=\"simpletable\">\n",
       "<tr>\n",
       "  <th>Ljung-Box (L1) (Q):</th>     <td>0.30</td> <th>  Jarque-Bera (JB):  </th> <td>1.84</td>\n",
       "</tr>\n",
       "<tr>\n",
       "  <th>Prob(Q):</th>                <td>0.59</td> <th>  Prob(JB):          </th> <td>0.40</td>\n",
       "</tr>\n",
       "<tr>\n",
       "  <th>Heteroskedasticity (H):</th> <td>7.38</td> <th>  Skew:              </th> <td>0.27</td>\n",
       "</tr>\n",
       "<tr>\n",
       "  <th>Prob(H) (two-sided):</th>    <td>0.00</td> <th>  Kurtosis:          </th> <td>3.14</td>\n",
       "</tr>\n",
       "</table><br/><br/>Warnings:<br/>[1] Covariance matrix calculated using the outer product of gradients (complex-step)."
      ],
      "text/plain": [
       "<class 'statsmodels.iolib.summary.Summary'>\n",
       "\"\"\"\n",
       "                               SARIMAX Results                                \n",
       "==============================================================================\n",
       "Dep. Variable:            #Passengers   No. Observations:                  144\n",
       "Model:                 ARIMA(2, 1, 2)   Log Likelihood                -671.673\n",
       "Date:                Wed, 08 Jun 2022   AIC                           1353.347\n",
       "Time:                        08:22:21   BIC                           1368.161\n",
       "Sample:                    01-01-1949   HQIC                          1359.366\n",
       "                         - 12-01-1960                                         \n",
       "Covariance Type:                  opg                                         \n",
       "==============================================================================\n",
       "                 coef    std err          z      P>|z|      [0.025      0.975]\n",
       "------------------------------------------------------------------------------\n",
       "ar.L1          1.6850      0.020     83.061      0.000       1.645       1.725\n",
       "ar.L2         -0.9549      0.017    -55.420      0.000      -0.989      -0.921\n",
       "ma.L1         -1.8432      0.124    -14.845      0.000      -2.087      -1.600\n",
       "ma.L2          0.9953      0.135      7.398      0.000       0.732       1.259\n",
       "sigma2       665.9646    113.887      5.848      0.000     442.751     889.178\n",
       "===================================================================================\n",
       "Ljung-Box (L1) (Q):                   0.30   Jarque-Bera (JB):                 1.84\n",
       "Prob(Q):                              0.59   Prob(JB):                         0.40\n",
       "Heteroskedasticity (H):               7.38   Skew:                             0.27\n",
       "Prob(H) (two-sided):                  0.00   Kurtosis:                         3.14\n",
       "===================================================================================\n",
       "\n",
       "Warnings:\n",
       "[1] Covariance matrix calculated using the outer product of gradients (complex-step).\n",
       "\"\"\""
      ]
     },
     "execution_count": 19,
     "metadata": {},
     "output_type": "execute_result"
    }
   ],
   "source": [
    "# Criação do modelo ARIMA com os parâmetro p = 2, q = 1, d = 2, treinamento e visualização dos resultados\n",
    "# Mais detalhes sobre o parâmetro freq: https://stackoverflow.com/questions/49547245/valuewarning-no-frequency-information-was-provided-so-inferred-frequency-ms-wi\n",
    "modelo = ARIMA(ts, order=(2, 1, 2), freq=ts.index.inferred_freq)\n",
    "modelo_treinado = modelo.fit()\n",
    "modelo_treinado.summary()\n"
   ]
  },
  {
   "cell_type": "code",
   "execution_count": 20,
   "metadata": {},
   "outputs": [
    {
     "data": {
      "text/plain": [
       "439.8545131561977"
      ]
     },
     "execution_count": 20,
     "metadata": {},
     "output_type": "execute_result"
    }
   ],
   "source": [
    "# Previsões de 12 datas no futuro\n",
    "previsoes = modelo_treinado.forecast(steps=12)[0]\n",
    "previsoes\n"
   ]
  },
  {
   "cell_type": "code",
   "execution_count": 21,
   "metadata": {
    "lines_to_next_cell": 2
   },
   "outputs": [
    {
     "data": {
      "text/plain": [
       "1960-01-01    398.194780\n",
       "1960-02-01    424.816978\n",
       "1960-03-01    416.245669\n",
       "1960-04-01    452.658330\n",
       "1960-05-01    492.451801\n",
       "                 ...    \n",
       "1969-09-01    502.120198\n",
       "1969-10-01    500.269784\n",
       "1969-11-01    500.142822\n",
       "1969-12-01    501.695760\n",
       "1970-01-01    504.433727\n",
       "Freq: MS, Name: predicted_mean, Length: 121, dtype: float64"
      ]
     },
     "execution_count": 21,
     "metadata": {},
     "output_type": "execute_result"
    },
    {
     "data": {
      "image/png": "[encoded data removed]",
      "text/plain": [
       "<Figure size 432x288 with 1 Axes>"
      ]
     },
     "metadata": {
      "needs_background": "light"
     },
     "output_type": "display_data"
    }
   ],
   "source": [
    "# Criação de eixo para a série temporal completa, com adição das previsões do modelo\n",
    "# lot_insample = True dados originais\n",
    "eixo = ts.plot()\n",
    "modelo_treinado.predict('1960-01-01', '1970-01-01',\n",
    "                             ax=eixo, plot_insample=True)\n"
   ]
  },
  {
   "cell_type": "code",
   "execution_count": 22,
   "metadata": {},
   "outputs": [
    {
     "data": {
      "text/html": [
       "<table class=\"simpletable\">\n",
       "<caption>SARIMAX Results</caption>\n",
       "<tr>\n",
       "  <th>Dep. Variable:</th>                  <td>y</td>                <th>  No. Observations:  </th>    <td>144</td>  \n",
       "</tr>\n",
       "<tr>\n",
       "  <th>Model:</th>           <td>SARIMAX(2, 1, 1)x(0, 1, [], 12)</td> <th>  Log Likelihood     </th> <td>-504.923</td>\n",
       "</tr>\n",
       "<tr>\n",
       "  <th>Date:</th>                   <td>Wed, 08 Jun 2022</td>         <th>  AIC                </th> <td>1017.847</td>\n",
       "</tr>\n",
       "<tr>\n",
       "  <th>Time:</th>                       <td>08:22:31</td>             <th>  BIC                </th> <td>1029.348</td>\n",
       "</tr>\n",
       "<tr>\n",
       "  <th>Sample:</th>                         <td>0</td>                <th>  HQIC               </th> <td>1022.520</td>\n",
       "</tr>\n",
       "<tr>\n",
       "  <th></th>                             <td> - 144</td>              <th>                     </th>     <td> </td>   \n",
       "</tr>\n",
       "<tr>\n",
       "  <th>Covariance Type:</th>               <td>opg</td>               <th>                     </th>     <td> </td>   \n",
       "</tr>\n",
       "</table>\n",
       "<table class=\"simpletable\">\n",
       "<tr>\n",
       "     <td></td>       <th>coef</th>     <th>std err</th>      <th>z</th>      <th>P>|z|</th>  <th>[0.025</th>    <th>0.975]</th>  \n",
       "</tr>\n",
       "<tr>\n",
       "  <th>ar.L1</th>  <td>    0.5960</td> <td>    0.085</td> <td>    6.987</td> <td> 0.000</td> <td>    0.429</td> <td>    0.763</td>\n",
       "</tr>\n",
       "<tr>\n",
       "  <th>ar.L2</th>  <td>    0.2143</td> <td>    0.091</td> <td>    2.343</td> <td> 0.019</td> <td>    0.035</td> <td>    0.394</td>\n",
       "</tr>\n",
       "<tr>\n",
       "  <th>ma.L1</th>  <td>   -0.9819</td> <td>    0.038</td> <td>  -25.601</td> <td> 0.000</td> <td>   -1.057</td> <td>   -0.907</td>\n",
       "</tr>\n",
       "<tr>\n",
       "  <th>sigma2</th> <td>  129.3132</td> <td>   14.556</td> <td>    8.884</td> <td> 0.000</td> <td>  100.783</td> <td>  157.843</td>\n",
       "</tr>\n",
       "</table>\n",
       "<table class=\"simpletable\">\n",
       "<tr>\n",
       "  <th>Ljung-Box (L1) (Q):</th>     <td>0.00</td> <th>  Jarque-Bera (JB):  </th> <td>7.68</td> \n",
       "</tr>\n",
       "<tr>\n",
       "  <th>Prob(Q):</th>                <td>0.98</td> <th>  Prob(JB):          </th> <td>0.02</td> \n",
       "</tr>\n",
       "<tr>\n",
       "  <th>Heteroskedasticity (H):</th> <td>2.33</td> <th>  Skew:              </th> <td>-0.01</td>\n",
       "</tr>\n",
       "<tr>\n",
       "  <th>Prob(H) (two-sided):</th>    <td>0.01</td> <th>  Kurtosis:          </th> <td>4.19</td> \n",
       "</tr>\n",
       "</table><br/><br/>Warnings:<br/>[1] Covariance matrix calculated using the outer product of gradients (complex-step)."
      ],
      "text/plain": [
       "<class 'statsmodels.iolib.summary.Summary'>\n",
       "\"\"\"\n",
       "                                      SARIMAX Results                                      \n",
       "===========================================================================================\n",
       "Dep. Variable:                                   y   No. Observations:                  144\n",
       "Model:             SARIMAX(2, 1, 1)x(0, 1, [], 12)   Log Likelihood                -504.923\n",
       "Date:                             Wed, 08 Jun 2022   AIC                           1017.847\n",
       "Time:                                     08:22:31   BIC                           1029.348\n",
       "Sample:                                          0   HQIC                          1022.520\n",
       "                                             - 144                                         \n",
       "Covariance Type:                               opg                                         \n",
       "==============================================================================\n",
       "                 coef    std err          z      P>|z|      [0.025      0.975]\n",
       "------------------------------------------------------------------------------\n",
       "ar.L1          0.5960      0.085      6.987      0.000       0.429       0.763\n",
       "ar.L2          0.2143      0.091      2.343      0.019       0.035       0.394\n",
       "ma.L1         -0.9819      0.038    -25.601      0.000      -1.057      -0.907\n",
       "sigma2       129.3132     14.556      8.884      0.000     100.783     157.843\n",
       "===================================================================================\n",
       "Ljung-Box (L1) (Q):                   0.00   Jarque-Bera (JB):                 7.68\n",
       "Prob(Q):                              0.98   Prob(JB):                         0.02\n",
       "Heteroskedasticity (H):               2.33   Skew:                            -0.01\n",
       "Prob(H) (two-sided):                  0.01   Kurtosis:                         4.19\n",
       "===================================================================================\n",
       "\n",
       "Warnings:\n",
       "[1] Covariance matrix calculated using the outer product of gradients (complex-step).\n",
       "\"\"\""
      ]
     },
     "execution_count": 22,
     "metadata": {},
     "output_type": "execute_result"
    }
   ],
   "source": [
    "# Implementação do auto arima para descoberta automática dos parâmetros\n",
    "modelo_auto = auto_arima(ts, m=12, seasonal=True, trace=False)\n",
    "modelo_auto.summary()\n",
    "# Warning abaixo são normais, de acordo com o link abaixo\n",
    "# ConvergenceWarning: Maximum... https://github.com/statsmodels/statsmodels/issues/6157\n"
   ]
  },
  {
   "cell_type": "code",
   "execution_count": 23,
   "metadata": {},
   "outputs": [
    {
     "data": {
      "text/plain": [
       "array([445.63493355, 420.39502446, 449.19834797, 491.83997601,\n",
       "       503.39450237, 566.86247078, 654.2601892 , 638.5974932 ,\n",
       "       540.88373892, 494.12660991, 423.33269015, 465.50754991])"
      ]
     },
     "execution_count": 23,
     "metadata": {},
     "output_type": "execute_result"
    }
   ],
   "source": [
    "proximos_12 = modelo_auto.predict(n_periods=12)\n",
    "# Visualização dos próximos 12 valores\n",
    "proximos_12\n"
   ]
  }
 ],
 "metadata": {
  "interpreter": {
   "hash": "7cb3df648956af0506d640a215fefdce4a19a4b1e04258330e029d6b1a83406e"
  },
  "jupytext": {
   "cell_metadata_filter": "-all",
   "main_language": "python",
   "notebook_metadata_filter": "-all"
  },
  "kernelspec": {
   "display_name": "Python 3.8.10 ('venv': venv)",
   "language": "python",
   "name": "python3"
  },
  "language_info": {
   "codemirror_mode": {
    "name": "ipython",
    "version": 3
   },
   "file_extension": ".py",
   "mimetype": "text/x-python",
   "name": "python",
   "nbconvert_exporter": "python",
   "pygments_lexer": "ipython3",
   "version": "3.8.10"
  }
 },
 "nbformat": 4,
 "nbformat_minor": 4
}
